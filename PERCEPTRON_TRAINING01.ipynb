{
  "nbformat": 4,
  "nbformat_minor": 0,
  "metadata": {
    "colab": {
      "name": "PERCEPTRON TRAINING01",
      "provenance": [],
      "toc_visible": true,
      "authorship_tag": "ABX9TyOWleaWihANJAIKVezHE3Ux",
      "include_colab_link": true
    },
    "kernelspec": {
      "name": "python3",
      "display_name": "Python 3"
    },
    "language_info": {
      "name": "python"
    }
  },
  "cells": [
    {
      "cell_type": "markdown",
      "metadata": {
        "id": "view-in-github",
        "colab_type": "text"
      },
      "source": [
        "<a href=\"https://colab.research.google.com/github/Baishnab1234/ML-projects/blob/main/PERCEPTRON_TRAINING01.ipynb\" target=\"_parent\"><img src=\"https://colab.research.google.com/assets/colab-badge.svg\" alt=\"Open In Colab\"/></a>"
      ]
    },
    {
      "cell_type": "code",
      "metadata": {
        "id": "eXEtUNfy1UMp",
        "colab": {
          "base_uri": "https://localhost:8080/"
        },
        "outputId": "d5d57835-fc90-4098-a993-43a35a8c7a1e"
      },
      "source": [
        "from google.colab import drive\n",
        "drive.mount('/content/drive')"
      ],
      "execution_count": 4,
      "outputs": [
        {
          "output_type": "stream",
          "text": [
            "Drive already mounted at /content/drive; to attempt to forcibly remount, call drive.mount(\"/content/drive\", force_remount=True).\n"
          ],
          "name": "stdout"
        }
      ]
    },
    {
      "cell_type": "code",
      "metadata": {
        "id": "1HnrjmAKxKkd",
        "colab": {
          "base_uri": "https://localhost:8080/"
        },
        "outputId": "8048f24a-bbb9-492b-f746-b34fff1d114d"
      },
      "source": [
        ""
      ],
      "execution_count": 9,
      "outputs": [
        {
          "output_type": "stream",
          "text": [
            "[Errno 20] Not a directory: '/content/drive/MyDrive/Live code sessions/PERCEPTRON TRAINING01.ipynb'\n",
            "/content\n"
          ],
          "name": "stdout"
        }
      ]
    }
  ]
}